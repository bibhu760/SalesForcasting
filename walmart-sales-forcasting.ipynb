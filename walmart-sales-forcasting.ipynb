{
 "cells": [
  {
   "cell_type": "markdown",
   "id": "6091e870",
   "metadata": {},
   "source": [
    "# A. Problem Statement\n",
    "\n",
    "A retail store that has multiple outlets across the country are facing issues in managing the\n",
    "inventory - to match the demand with respect to supply. You are a data scientist, who has to\n",
    "come up with useful insights using the data and make prediction models to forecast the sales for\n",
    "X number of months/years."
   ]
  },
  {
   "cell_type": "markdown",
   "id": "d99f1ff7",
   "metadata": {},
   "source": [
    "# B. Project Objective\n",
    "\n",
    "The objective of this project is to predict Sales of store for the next 12 weeks. As in dataset, size and time related data are given as feature, so analyze if sales are impacted by time-based factors and space- based factor. Most importantly how inclusion of holidays in a week soars the sales in store?"
   ]
  },
  {
   "cell_type": "markdown",
   "id": "b61b5fe2",
   "metadata": {},
   "source": [
    "# C. Data Discription\n",
    "\n",
    "In this dataset, there are historical sales data of 45 Walmart stores based on store location and week. There are certain events and holidays which impact sales on each day. The business is facing a challenge due to unforeseen demands and runs out of stock some times. Walmart would like to predict the sales and demand accurately. The objective is to determine the factors affecting the sales and to analyze the impact of markdowns around holidays on the sales."
   ]
  },
  {
   "cell_type": "code",
   "execution_count": 1,
   "id": "f2a9c346",
   "metadata": {},
   "outputs": [],
   "source": [
    "import numpy as np\n",
    "import pandas as pd\n",
    "import matplotlib.pyplot as plt\n",
    "import seaborn as sns\n",
    "import math\n",
    "from math import sqrt\n",
    "\n",
    "import datetime\n",
    "import warnings\n",
    "warnings.filterwarnings('ignore')\n",
    "\n",
    "from sklearn.linear_model import LinearRegression\n",
    "from sklearn.tree import DecisionTreeRegressor\n",
    "from sklearn.ensemble import RandomForestRegressor\n",
    "from sklearn.neighbors import KNeighborsRegressor\n",
    "# from xgboost import XGBRegressor\n",
    "from sklearn.model_selection import train_test_split\n",
    "from sklearn.metrics import *\n",
    "\n"
   ]
  },
  {
   "cell_type": "code",
   "execution_count": 2,
   "id": "bfd0d127",
   "metadata": {},
   "outputs": [
    {
     "data": {
      "text/html": [
       "<div>\n",
       "<style scoped>\n",
       "    .dataframe tbody tr th:only-of-type {\n",
       "        vertical-align: middle;\n",
       "    }\n",
       "\n",
       "    .dataframe tbody tr th {\n",
       "        vertical-align: top;\n",
       "    }\n",
       "\n",
       "    .dataframe thead th {\n",
       "        text-align: right;\n",
       "    }\n",
       "</style>\n",
       "<table border=\"1\" class=\"dataframe\">\n",
       "  <thead>\n",
       "    <tr style=\"text-align: right;\">\n",
       "      <th></th>\n",
       "      <th>Store</th>\n",
       "      <th>Date</th>\n",
       "      <th>Weekly_Sales</th>\n",
       "      <th>Holiday_Flag</th>\n",
       "      <th>Temperature</th>\n",
       "      <th>Fuel_Price</th>\n",
       "      <th>CPI</th>\n",
       "      <th>Unemployment</th>\n",
       "    </tr>\n",
       "  </thead>\n",
       "  <tbody>\n",
       "    <tr>\n",
       "      <th>0</th>\n",
       "      <td>1</td>\n",
       "      <td>05-02-2010</td>\n",
       "      <td>1643690.90</td>\n",
       "      <td>0</td>\n",
       "      <td>42.31</td>\n",
       "      <td>2.572</td>\n",
       "      <td>211.096358</td>\n",
       "      <td>8.106</td>\n",
       "    </tr>\n",
       "    <tr>\n",
       "      <th>1</th>\n",
       "      <td>1</td>\n",
       "      <td>12-02-2010</td>\n",
       "      <td>1641957.44</td>\n",
       "      <td>1</td>\n",
       "      <td>38.51</td>\n",
       "      <td>2.548</td>\n",
       "      <td>211.242170</td>\n",
       "      <td>8.106</td>\n",
       "    </tr>\n",
       "    <tr>\n",
       "      <th>2</th>\n",
       "      <td>1</td>\n",
       "      <td>19-02-2010</td>\n",
       "      <td>1611968.17</td>\n",
       "      <td>0</td>\n",
       "      <td>39.93</td>\n",
       "      <td>2.514</td>\n",
       "      <td>211.289143</td>\n",
       "      <td>8.106</td>\n",
       "    </tr>\n",
       "    <tr>\n",
       "      <th>3</th>\n",
       "      <td>1</td>\n",
       "      <td>26-02-2010</td>\n",
       "      <td>1409727.59</td>\n",
       "      <td>0</td>\n",
       "      <td>46.63</td>\n",
       "      <td>2.561</td>\n",
       "      <td>211.319643</td>\n",
       "      <td>8.106</td>\n",
       "    </tr>\n",
       "    <tr>\n",
       "      <th>4</th>\n",
       "      <td>1</td>\n",
       "      <td>05-03-2010</td>\n",
       "      <td>1554806.68</td>\n",
       "      <td>0</td>\n",
       "      <td>46.50</td>\n",
       "      <td>2.625</td>\n",
       "      <td>211.350143</td>\n",
       "      <td>8.106</td>\n",
       "    </tr>\n",
       "  </tbody>\n",
       "</table>\n",
       "</div>"
      ],
      "text/plain": [
       "   Store        Date  Weekly_Sales  Holiday_Flag  Temperature  Fuel_Price  \\\n",
       "0      1  05-02-2010    1643690.90             0        42.31       2.572   \n",
       "1      1  12-02-2010    1641957.44             1        38.51       2.548   \n",
       "2      1  19-02-2010    1611968.17             0        39.93       2.514   \n",
       "3      1  26-02-2010    1409727.59             0        46.63       2.561   \n",
       "4      1  05-03-2010    1554806.68             0        46.50       2.625   \n",
       "\n",
       "          CPI  Unemployment  \n",
       "0  211.096358         8.106  \n",
       "1  211.242170         8.106  \n",
       "2  211.289143         8.106  \n",
       "3  211.319643         8.106  \n",
       "4  211.350143         8.106  "
      ]
     },
     "execution_count": 2,
     "metadata": {},
     "output_type": "execute_result"
    }
   ],
   "source": [
    "walmart = pd.read_csv(r\"F:\\Data Analytics - IITM\\capston project\\Walmart.csv\")\n",
    "walmart.head()"
   ]
  },
  {
   "cell_type": "markdown",
   "id": "094cb385",
   "metadata": {},
   "source": [
    "# D. Data Pre-processing Steps and Inspiration\n",
    "\n",
    "The Pre-processing of the data includes the following steps:\n",
    "1. Data Cleaning: Cleaning the data by removing missing values, outliers and other inconsistencies.\n",
    "2. Data Exploration: Exploring the data to gain insights and understanding the data.\n",
    "3. Data Visualization: Visualizing the data for better understanding."
   ]
  },
  {
   "cell_type": "code",
   "execution_count": 3,
   "id": "9aa9a234",
   "metadata": {},
   "outputs": [
    {
     "data": {
      "text/plain": [
       "(6435, 8)"
      ]
     },
     "execution_count": 3,
     "metadata": {},
     "output_type": "execute_result"
    }
   ],
   "source": [
    "walmart.shape"
   ]
  },
  {
   "cell_type": "code",
   "execution_count": 4,
   "id": "1575fb77",
   "metadata": {},
   "outputs": [
    {
     "name": "stdout",
     "output_type": "stream",
     "text": [
      "<class 'pandas.core.frame.DataFrame'>\n",
      "RangeIndex: 6435 entries, 0 to 6434\n",
      "Data columns (total 8 columns):\n",
      " #   Column        Non-Null Count  Dtype  \n",
      "---  ------        --------------  -----  \n",
      " 0   Store         6435 non-null   int64  \n",
      " 1   Date          6435 non-null   object \n",
      " 2   Weekly_Sales  6435 non-null   float64\n",
      " 3   Holiday_Flag  6435 non-null   int64  \n",
      " 4   Temperature   6435 non-null   float64\n",
      " 5   Fuel_Price    6435 non-null   float64\n",
      " 6   CPI           6435 non-null   float64\n",
      " 7   Unemployment  6435 non-null   float64\n",
      "dtypes: float64(5), int64(2), object(1)\n",
      "memory usage: 402.3+ KB\n"
     ]
    }
   ],
   "source": [
    "walmart.info()"
   ]
  },
  {
   "cell_type": "code",
   "execution_count": 5,
   "id": "5304d6be",
   "metadata": {},
   "outputs": [],
   "source": [
    "# Converting 'Date' column to datetime and adding 'Year', 'Month' and 'Week' column\n",
    "\n",
    "walmart[\"Date\"] = pd.to_datetime(walmart[\"Date\"],dayfirst=True)\n",
    "walmart['Year'] =walmart['Date'].dt.year\n",
    "walmart['Month'] =walmart['Date'].dt.month \n",
    "walmart['Week'] =walmart['Date'].dt.strftime('%U')\n"
   ]
  },
  {
   "cell_type": "code",
   "execution_count": 6,
   "id": "11b68f21",
   "metadata": {},
   "outputs": [
    {
     "data": {
      "text/html": [
       "<div>\n",
       "<style scoped>\n",
       "    .dataframe tbody tr th:only-of-type {\n",
       "        vertical-align: middle;\n",
       "    }\n",
       "\n",
       "    .dataframe tbody tr th {\n",
       "        vertical-align: top;\n",
       "    }\n",
       "\n",
       "    .dataframe thead th {\n",
       "        text-align: right;\n",
       "    }\n",
       "</style>\n",
       "<table border=\"1\" class=\"dataframe\">\n",
       "  <thead>\n",
       "    <tr style=\"text-align: right;\">\n",
       "      <th></th>\n",
       "      <th>Store</th>\n",
       "      <th>Date</th>\n",
       "      <th>Weekly_Sales</th>\n",
       "      <th>Holiday_Flag</th>\n",
       "      <th>Temperature</th>\n",
       "      <th>Fuel_Price</th>\n",
       "      <th>CPI</th>\n",
       "      <th>Unemployment</th>\n",
       "      <th>Year</th>\n",
       "      <th>Month</th>\n",
       "      <th>Week</th>\n",
       "    </tr>\n",
       "  </thead>\n",
       "  <tbody>\n",
       "    <tr>\n",
       "      <th>0</th>\n",
       "      <td>1</td>\n",
       "      <td>2010-02-05</td>\n",
       "      <td>1643690.90</td>\n",
       "      <td>0</td>\n",
       "      <td>42.31</td>\n",
       "      <td>2.572</td>\n",
       "      <td>211.096358</td>\n",
       "      <td>8.106</td>\n",
       "      <td>2010</td>\n",
       "      <td>2</td>\n",
       "      <td>05</td>\n",
       "    </tr>\n",
       "    <tr>\n",
       "      <th>1</th>\n",
       "      <td>1</td>\n",
       "      <td>2010-02-12</td>\n",
       "      <td>1641957.44</td>\n",
       "      <td>1</td>\n",
       "      <td>38.51</td>\n",
       "      <td>2.548</td>\n",
       "      <td>211.242170</td>\n",
       "      <td>8.106</td>\n",
       "      <td>2010</td>\n",
       "      <td>2</td>\n",
       "      <td>06</td>\n",
       "    </tr>\n",
       "    <tr>\n",
       "      <th>2</th>\n",
       "      <td>1</td>\n",
       "      <td>2010-02-19</td>\n",
       "      <td>1611968.17</td>\n",
       "      <td>0</td>\n",
       "      <td>39.93</td>\n",
       "      <td>2.514</td>\n",
       "      <td>211.289143</td>\n",
       "      <td>8.106</td>\n",
       "      <td>2010</td>\n",
       "      <td>2</td>\n",
       "      <td>07</td>\n",
       "    </tr>\n",
       "    <tr>\n",
       "      <th>3</th>\n",
       "      <td>1</td>\n",
       "      <td>2010-02-26</td>\n",
       "      <td>1409727.59</td>\n",
       "      <td>0</td>\n",
       "      <td>46.63</td>\n",
       "      <td>2.561</td>\n",
       "      <td>211.319643</td>\n",
       "      <td>8.106</td>\n",
       "      <td>2010</td>\n",
       "      <td>2</td>\n",
       "      <td>08</td>\n",
       "    </tr>\n",
       "    <tr>\n",
       "      <th>4</th>\n",
       "      <td>1</td>\n",
       "      <td>2010-03-05</td>\n",
       "      <td>1554806.68</td>\n",
       "      <td>0</td>\n",
       "      <td>46.50</td>\n",
       "      <td>2.625</td>\n",
       "      <td>211.350143</td>\n",
       "      <td>8.106</td>\n",
       "      <td>2010</td>\n",
       "      <td>3</td>\n",
       "      <td>09</td>\n",
       "    </tr>\n",
       "  </tbody>\n",
       "</table>\n",
       "</div>"
      ],
      "text/plain": [
       "   Store       Date  Weekly_Sales  Holiday_Flag  Temperature  Fuel_Price  \\\n",
       "0      1 2010-02-05    1643690.90             0        42.31       2.572   \n",
       "1      1 2010-02-12    1641957.44             1        38.51       2.548   \n",
       "2      1 2010-02-19    1611968.17             0        39.93       2.514   \n",
       "3      1 2010-02-26    1409727.59             0        46.63       2.561   \n",
       "4      1 2010-03-05    1554806.68             0        46.50       2.625   \n",
       "\n",
       "          CPI  Unemployment  Year  Month Week  \n",
       "0  211.096358         8.106  2010      2   05  \n",
       "1  211.242170         8.106  2010      2   06  \n",
       "2  211.289143         8.106  2010      2   07  \n",
       "3  211.319643         8.106  2010      2   08  \n",
       "4  211.350143         8.106  2010      3   09  "
      ]
     },
     "execution_count": 6,
     "metadata": {},
     "output_type": "execute_result"
    }
   ],
   "source": [
    "walmart.head()"
   ]
  },
  {
   "cell_type": "code",
   "execution_count": 7,
   "id": "d776c001",
   "metadata": {},
   "outputs": [
    {
     "name": "stdout",
     "output_type": "stream",
     "text": [
      "<class 'pandas.core.frame.DataFrame'>\n",
      "RangeIndex: 6435 entries, 0 to 6434\n",
      "Data columns (total 11 columns):\n",
      " #   Column        Non-Null Count  Dtype         \n",
      "---  ------        --------------  -----         \n",
      " 0   Store         6435 non-null   int64         \n",
      " 1   Date          6435 non-null   datetime64[ns]\n",
      " 2   Weekly_Sales  6435 non-null   float64       \n",
      " 3   Holiday_Flag  6435 non-null   int64         \n",
      " 4   Temperature   6435 non-null   float64       \n",
      " 5   Fuel_Price    6435 non-null   float64       \n",
      " 6   CPI           6435 non-null   float64       \n",
      " 7   Unemployment  6435 non-null   float64       \n",
      " 8   Year          6435 non-null   int32         \n",
      " 9   Month         6435 non-null   int32         \n",
      " 10  Week          6435 non-null   object        \n",
      "dtypes: datetime64[ns](1), float64(5), int32(2), int64(2), object(1)\n",
      "memory usage: 502.9+ KB\n"
     ]
    }
   ],
   "source": [
    "walmart.info()"
   ]
  },
  {
   "cell_type": "code",
   "execution_count": 8,
   "id": "17034efe",
   "metadata": {},
   "outputs": [
    {
     "data": {
      "text/html": [
       "<div>\n",
       "<style scoped>\n",
       "    .dataframe tbody tr th:only-of-type {\n",
       "        vertical-align: middle;\n",
       "    }\n",
       "\n",
       "    .dataframe tbody tr th {\n",
       "        vertical-align: top;\n",
       "    }\n",
       "\n",
       "    .dataframe thead th {\n",
       "        text-align: right;\n",
       "    }\n",
       "</style>\n",
       "<table border=\"1\" class=\"dataframe\">\n",
       "  <thead>\n",
       "    <tr style=\"text-align: right;\">\n",
       "      <th></th>\n",
       "      <th>Store</th>\n",
       "      <th>Date</th>\n",
       "      <th>Weekly_Sales</th>\n",
       "      <th>Holiday_Flag</th>\n",
       "      <th>Temperature</th>\n",
       "      <th>Fuel_Price</th>\n",
       "      <th>CPI</th>\n",
       "      <th>Unemployment</th>\n",
       "      <th>Year</th>\n",
       "      <th>Month</th>\n",
       "    </tr>\n",
       "  </thead>\n",
       "  <tbody>\n",
       "    <tr>\n",
       "      <th>count</th>\n",
       "      <td>6435.000000</td>\n",
       "      <td>6435</td>\n",
       "      <td>6.435000e+03</td>\n",
       "      <td>6435.000000</td>\n",
       "      <td>6435.000000</td>\n",
       "      <td>6435.000000</td>\n",
       "      <td>6435.000000</td>\n",
       "      <td>6435.000000</td>\n",
       "      <td>6435.000000</td>\n",
       "      <td>6435.000000</td>\n",
       "    </tr>\n",
       "    <tr>\n",
       "      <th>mean</th>\n",
       "      <td>23.000000</td>\n",
       "      <td>2011-06-17 00:00:00</td>\n",
       "      <td>1.046965e+06</td>\n",
       "      <td>0.069930</td>\n",
       "      <td>60.663782</td>\n",
       "      <td>3.358607</td>\n",
       "      <td>171.578394</td>\n",
       "      <td>7.999151</td>\n",
       "      <td>2010.965035</td>\n",
       "      <td>6.447552</td>\n",
       "    </tr>\n",
       "    <tr>\n",
       "      <th>min</th>\n",
       "      <td>1.000000</td>\n",
       "      <td>2010-02-05 00:00:00</td>\n",
       "      <td>2.099862e+05</td>\n",
       "      <td>0.000000</td>\n",
       "      <td>-2.060000</td>\n",
       "      <td>2.472000</td>\n",
       "      <td>126.064000</td>\n",
       "      <td>3.879000</td>\n",
       "      <td>2010.000000</td>\n",
       "      <td>1.000000</td>\n",
       "    </tr>\n",
       "    <tr>\n",
       "      <th>25%</th>\n",
       "      <td>12.000000</td>\n",
       "      <td>2010-10-08 00:00:00</td>\n",
       "      <td>5.533501e+05</td>\n",
       "      <td>0.000000</td>\n",
       "      <td>47.460000</td>\n",
       "      <td>2.933000</td>\n",
       "      <td>131.735000</td>\n",
       "      <td>6.891000</td>\n",
       "      <td>2010.000000</td>\n",
       "      <td>4.000000</td>\n",
       "    </tr>\n",
       "    <tr>\n",
       "      <th>50%</th>\n",
       "      <td>23.000000</td>\n",
       "      <td>2011-06-17 00:00:00</td>\n",
       "      <td>9.607460e+05</td>\n",
       "      <td>0.000000</td>\n",
       "      <td>62.670000</td>\n",
       "      <td>3.445000</td>\n",
       "      <td>182.616521</td>\n",
       "      <td>7.874000</td>\n",
       "      <td>2011.000000</td>\n",
       "      <td>6.000000</td>\n",
       "    </tr>\n",
       "    <tr>\n",
       "      <th>75%</th>\n",
       "      <td>34.000000</td>\n",
       "      <td>2012-02-24 00:00:00</td>\n",
       "      <td>1.420159e+06</td>\n",
       "      <td>0.000000</td>\n",
       "      <td>74.940000</td>\n",
       "      <td>3.735000</td>\n",
       "      <td>212.743293</td>\n",
       "      <td>8.622000</td>\n",
       "      <td>2012.000000</td>\n",
       "      <td>9.000000</td>\n",
       "    </tr>\n",
       "    <tr>\n",
       "      <th>max</th>\n",
       "      <td>45.000000</td>\n",
       "      <td>2012-10-26 00:00:00</td>\n",
       "      <td>3.818686e+06</td>\n",
       "      <td>1.000000</td>\n",
       "      <td>100.140000</td>\n",
       "      <td>4.468000</td>\n",
       "      <td>227.232807</td>\n",
       "      <td>14.313000</td>\n",
       "      <td>2012.000000</td>\n",
       "      <td>12.000000</td>\n",
       "    </tr>\n",
       "    <tr>\n",
       "      <th>std</th>\n",
       "      <td>12.988182</td>\n",
       "      <td>NaN</td>\n",
       "      <td>5.643666e+05</td>\n",
       "      <td>0.255049</td>\n",
       "      <td>18.444933</td>\n",
       "      <td>0.459020</td>\n",
       "      <td>39.356712</td>\n",
       "      <td>1.875885</td>\n",
       "      <td>0.797019</td>\n",
       "      <td>3.238308</td>\n",
       "    </tr>\n",
       "  </tbody>\n",
       "</table>\n",
       "</div>"
      ],
      "text/plain": [
       "             Store                 Date  Weekly_Sales  Holiday_Flag  \\\n",
       "count  6435.000000                 6435  6.435000e+03   6435.000000   \n",
       "mean     23.000000  2011-06-17 00:00:00  1.046965e+06      0.069930   \n",
       "min       1.000000  2010-02-05 00:00:00  2.099862e+05      0.000000   \n",
       "25%      12.000000  2010-10-08 00:00:00  5.533501e+05      0.000000   \n",
       "50%      23.000000  2011-06-17 00:00:00  9.607460e+05      0.000000   \n",
       "75%      34.000000  2012-02-24 00:00:00  1.420159e+06      0.000000   \n",
       "max      45.000000  2012-10-26 00:00:00  3.818686e+06      1.000000   \n",
       "std      12.988182                  NaN  5.643666e+05      0.255049   \n",
       "\n",
       "       Temperature   Fuel_Price          CPI  Unemployment         Year  \\\n",
       "count  6435.000000  6435.000000  6435.000000   6435.000000  6435.000000   \n",
       "mean     60.663782     3.358607   171.578394      7.999151  2010.965035   \n",
       "min      -2.060000     2.472000   126.064000      3.879000  2010.000000   \n",
       "25%      47.460000     2.933000   131.735000      6.891000  2010.000000   \n",
       "50%      62.670000     3.445000   182.616521      7.874000  2011.000000   \n",
       "75%      74.940000     3.735000   212.743293      8.622000  2012.000000   \n",
       "max     100.140000     4.468000   227.232807     14.313000  2012.000000   \n",
       "std      18.444933     0.459020    39.356712      1.875885     0.797019   \n",
       "\n",
       "             Month  \n",
       "count  6435.000000  \n",
       "mean      6.447552  \n",
       "min       1.000000  \n",
       "25%       4.000000  \n",
       "50%       6.000000  \n",
       "75%       9.000000  \n",
       "max      12.000000  \n",
       "std       3.238308  "
      ]
     },
     "execution_count": 8,
     "metadata": {},
     "output_type": "execute_result"
    }
   ],
   "source": [
    "walmart.describe()"
   ]
  },
  {
   "cell_type": "code",
   "execution_count": 9,
   "id": "fcf804b7",
   "metadata": {},
   "outputs": [
    {
     "data": {
      "text/plain": [
       "Store           0\n",
       "Date            0\n",
       "Weekly_Sales    0\n",
       "Holiday_Flag    0\n",
       "Temperature     0\n",
       "Fuel_Price      0\n",
       "CPI             0\n",
       "Unemployment    0\n",
       "Year            0\n",
       "Month           0\n",
       "Week            0\n",
       "dtype: int64"
      ]
     },
     "execution_count": 9,
     "metadata": {},
     "output_type": "execute_result"
    }
   ],
   "source": [
    "#Checking Null\n",
    "\n",
    "walmart.isnull().sum()"
   ]
  },
  {
   "cell_type": "code",
   "execution_count": 10,
   "id": "5ae946db",
   "metadata": {},
   "outputs": [
    {
     "data": {
      "text/plain": [
       "0"
      ]
     },
     "execution_count": 10,
     "metadata": {},
     "output_type": "execute_result"
    }
   ],
   "source": [
    "#Checking Duplicates\n",
    "\n",
    "walmart.duplicated().sum()"
   ]
  },
  {
   "cell_type": "code",
   "execution_count": 11,
   "id": "dd9a75c5",
   "metadata": {},
   "outputs": [
    {
     "data": {
      "text/plain": [
       "Month\n",
       "1     9.238846e+05\n",
       "2     1.053200e+06\n",
       "3     1.013309e+06\n",
       "4     1.026762e+06\n",
       "5     1.031714e+06\n",
       "6     1.064325e+06\n",
       "7     1.031748e+06\n",
       "8     1.048017e+06\n",
       "9     9.893353e+05\n",
       "10    9.996321e+05\n",
       "11    1.147266e+06\n",
       "12    1.281864e+06\n",
       "Name: Weekly_Sales, dtype: float64"
      ]
     },
     "execution_count": 11,
     "metadata": {},
     "output_type": "execute_result"
    }
   ],
   "source": [
    "walmart.groupby('Month')['Weekly_Sales'].mean()"
   ]
  },
  {
   "cell_type": "code",
   "execution_count": 12,
   "id": "0320f67d",
   "metadata": {},
   "outputs": [
    {
     "data": {
      "text/plain": [
       "Year\n",
       "2010    1.059670e+06\n",
       "2011    1.046239e+06\n",
       "2012    1.033660e+06\n",
       "Name: Weekly_Sales, dtype: float64"
      ]
     },
     "execution_count": 12,
     "metadata": {},
     "output_type": "execute_result"
    }
   ],
   "source": [
    "walmart.groupby('Year')['Weekly_Sales'].mean()"
   ]
  },
  {
   "cell_type": "code",
   "execution_count": 13,
   "id": "a1d2a93f",
   "metadata": {},
   "outputs": [
    {
     "data": {
      "image/png": "[encoded data removed]",
      "text/plain": [
       "<Figure size 1000x500 with 1 Axes>"
      ]
     },
     "metadata": {},
     "output_type": "display_data"
    }
   ],
   "source": [
    "# Data Visualization\n",
    "\n",
    "# Analyzing the distribution of target variable\n",
    "plt.figure(figsize = (10, 5))\n",
    "sns.distplot(walmart['Weekly_Sales'], hist_kws=dict(edgecolor=\"black\"))\n",
    "plt.title('Weekly Sales Distribution', fontsize= 15)\n",
    "plt.grid()\n",
    "plt.show()"
   ]
  },
  {
   "cell_type": "code",
   "execution_count": 14,
   "id": "188f3052",
   "metadata": {},
   "outputs": [
    {
     "data": {
      "text/plain": [
       "Holiday_Flag\n",
       "0    5985\n",
       "1     450\n",
       "Name: count, dtype: int64"
      ]
     },
     "execution_count": 14,
     "metadata": {},
     "output_type": "execute_result"
    }
   ],
   "source": [
    "walmart['Holiday_Flag'].value_counts()"
   ]
  },
  {
   "cell_type": "code",
   "execution_count": 15,
   "id": "27083ccc",
   "metadata": {},
   "outputs": [
    {
     "data": {
      "image/png": "[encoded data removed]",
      "text/plain": [
       "<Figure size 640x480 with 1 Axes>"
      ]
     },
     "metadata": {},
     "output_type": "display_data"
    }
   ],
   "source": [
    "sns.countplot(x = 'Holiday_Flag', data = walmart);"
   ]
  },
  {
   "cell_type": "code",
   "execution_count": 16,
   "id": "1bce77a9",
   "metadata": {},
   "outputs": [
    {
     "ename": "TypeError",
     "evalue": "barplot() takes from 0 to 1 positional arguments but 2 were given",
     "output_type": "error",
     "traceback": [
      "\u001b[1;31m---------------------------------------------------------------------------\u001b[0m",
      "\u001b[1;31mTypeError\u001b[0m                                 Traceback (most recent call last)",
      "Cell \u001b[1;32mIn[16], line 2\u001b[0m\n\u001b[0;32m      1\u001b[0m plt\u001b[38;5;241m.\u001b[39mfigure(figsize\u001b[38;5;241m=\u001b[39m(\u001b[38;5;241m20\u001b[39m,\u001b[38;5;241m8\u001b[39m))\n\u001b[1;32m----> 2\u001b[0m sns\u001b[38;5;241m.\u001b[39mbarplot(walmart[\u001b[38;5;124m'\u001b[39m\u001b[38;5;124mStore\u001b[39m\u001b[38;5;124m'\u001b[39m], walmart[\u001b[38;5;124m'\u001b[39m\u001b[38;5;124mWeekly_Sales\u001b[39m\u001b[38;5;124m'\u001b[39m])\n\u001b[0;32m      3\u001b[0m plt\u001b[38;5;241m.\u001b[39mtitle(\u001b[38;5;124m'\u001b[39m\u001b[38;5;124mWeekly Sales by Store\u001b[39m\u001b[38;5;124m'\u001b[39m, fontsize\u001b[38;5;241m=\u001b[39m\u001b[38;5;241m18\u001b[39m)\n\u001b[0;32m      4\u001b[0m plt\u001b[38;5;241m.\u001b[39mylabel(\u001b[38;5;124m'\u001b[39m\u001b[38;5;124mSales\u001b[39m\u001b[38;5;124m'\u001b[39m, fontsize\u001b[38;5;241m=\u001b[39m\u001b[38;5;241m16\u001b[39m)\n",
      "\u001b[1;31mTypeError\u001b[0m: barplot() takes from 0 to 1 positional arguments but 2 were given"
     ]
    },
    {
     "data": {
      "text/plain": [
       "<Figure size 2000x800 with 0 Axes>"
      ]
     },
     "metadata": {},
     "output_type": "display_data"
    }
   ],
   "source": [
    "plt.figure(figsize=(20,8))\n",
    "sns.barplot(walmart['Store'], walmart['Weekly_Sales'])\n",
    "plt.title('Weekly Sales by Store', fontsize=18)\n",
    "plt.ylabel('Sales', fontsize=16)\n",
    "plt.xlabel('Store', fontsize=16)\n",
    "plt.grid()\n",
    "plt.show()"
   ]
  },
  {
   "cell_type": "code",
   "execution_count": null,
   "id": "be9fa424",
   "metadata": {},
   "outputs": [],
   "source": [
    "#This function plots the graph relation between a categorized feature and the Weekly_Sales\n",
    "\n",
    "def graph_relation_to_weekly_sale(col_relation, df, x='Week', palette=None):\n",
    "    cmap = sns.diverging_palette(220, 20, as_cmap=True)\n",
    "\n",
    "    sns.relplot(\n",
    "        x=x,\n",
    "        y='Weekly_Sales',\n",
    "        hue=col_relation,\n",
    "        data=df,\n",
    "        kind='line',\n",
    "        height=5,\n",
    "        aspect=2,\n",
    "        palette=palette\n",
    "    )\n",
    "    plt.show()"
   ]
  },
  {
   "cell_type": "code",
   "execution_count": null,
   "id": "56df9b30",
   "metadata": {},
   "outputs": [],
   "source": [
    "graph_relation_to_weekly_sale('Year', walmart, x='Date', palette='Set2')"
   ]
  },
  {
   "cell_type": "code",
   "execution_count": null,
   "id": "7d6d723b",
   "metadata": {},
   "outputs": [],
   "source": [
    "plt.figure(figsize = (20, 7))\n",
    "sns.barplot(walmart['Week'], walmart['Weekly_Sales'])\n",
    "plt.title('Average Weekly Sales', fontsize=18)\n",
    "plt.ylabel('Weekly Sales', fontsize=16)\n",
    "plt.xlabel('Week', fontsize=16)\n",
    "plt.grid()\n",
    "plt.show()"
   ]
  },
  {
   "cell_type": "code",
   "execution_count": null,
   "id": "23950351",
   "metadata": {},
   "outputs": [],
   "source": [
    "plt.figure(figsize = (20,10))\n",
    "sns.heatmap(walmart.corr(), cmap = 'PuBu', annot = True)\n",
    "plt.show()"
   ]
  },
  {
   "cell_type": "code",
   "execution_count": null,
   "id": "4e738f51",
   "metadata": {},
   "outputs": [],
   "source": [
    "walmart.drop(['Temperature', 'Fuel_Price', 'CPI', 'Unemployment'], axis = 1, inplace = True)"
   ]
  },
  {
   "cell_type": "markdown",
   "id": "0c1ffdb6",
   "metadata": {},
   "source": [
    "# E. Choosing the Algorithm for the Project\n",
    "\n",
    "The choice of algorithm for a machine learning project is depends upon the type of problem we are trying to solve. Generally, supervised learning algorithms are used for classification and regression problems, while unsupervised learning algorithms are used for clustering and dimensionality reduction tasks. Some of the most popular algorithms used in machine learning includes Random Forests, Support Vector Machines (SVMs), Extra Trees, k-Nearest Neighbors (kNN), Decision Trees and xgboost."
   ]
  },
  {
   "cell_type": "code",
   "execution_count": null,
   "id": "db1e3f43",
   "metadata": {},
   "outputs": [],
   "source": [
    "x = walmart.drop(['Date','Weekly_Sales'], axis=1)\n",
    "x"
   ]
  },
  {
   "cell_type": "code",
   "execution_count": null,
   "id": "40052a37",
   "metadata": {},
   "outputs": [],
   "source": [
    "y = walmart['Weekly_Sales']"
   ]
  },
  {
   "cell_type": "code",
   "execution_count": null,
   "id": "857d2e65",
   "metadata": {},
   "outputs": [],
   "source": [
    "rf = RandomForestRegressor(n_estimators = 100)\n",
    "rf.fit(x, y)"
   ]
  },
  {
   "cell_type": "code",
   "execution_count": null,
   "id": "1b0331d7",
   "metadata": {},
   "outputs": [],
   "source": [
    "# checking the feature importance\n",
    "\n",
    "plt.figure(figsize = (15, 5))\n",
    "plt.bar(x.columns, rf.feature_importances_)\n",
    "plt.title(\"Feature Importance\", fontsize = 15)\n",
    "plt.show()"
   ]
  },
  {
   "cell_type": "code",
   "execution_count": null,
   "id": "ab755f21",
   "metadata": {},
   "outputs": [],
   "source": [
    "x_train, x_test, y_train, y_test = train_test_split(x, y, train_size = 0.8, random_state = 0)"
   ]
  },
  {
   "cell_type": "markdown",
   "id": "eddc1422",
   "metadata": {},
   "source": [
    "### Linear Regression"
   ]
  },
  {
   "cell_type": "code",
   "execution_count": null,
   "id": "974337e4",
   "metadata": {},
   "outputs": [],
   "source": [
    "lr = LinearRegression()\n",
    "lr.fit(x_train, y_train)"
   ]
  },
  {
   "cell_type": "code",
   "execution_count": null,
   "id": "f1be0cf8",
   "metadata": {},
   "outputs": [],
   "source": [
    "y_pred = lr.predict(x_test)"
   ]
  },
  {
   "cell_type": "code",
   "execution_count": null,
   "id": "7aeefbd5",
   "metadata": {},
   "outputs": [],
   "source": [
    "plt.scatter(y_test, y_pred)\n",
    "\n",
    "print(\"R2 Score: \", r2_score(y_test, y_pred))\n",
    "print(\"MSE Score: \", mean_squared_error(y_test, y_pred))\n",
    "print(\"RMSE : \", sqrt(mean_squared_error(y_test, y_pred)))"
   ]
  },
  {
   "cell_type": "markdown",
   "id": "6978d350",
   "metadata": {},
   "source": [
    "### Decision Tree"
   ]
  },
  {
   "cell_type": "code",
   "execution_count": null,
   "id": "e5204bf9",
   "metadata": {},
   "outputs": [],
   "source": [
    "dtree = DecisionTreeRegressor()\n",
    "dtree.fit(x_train, y_train)"
   ]
  },
  {
   "cell_type": "code",
   "execution_count": null,
   "id": "72fe2647",
   "metadata": {},
   "outputs": [],
   "source": [
    "y_pred1 = dtree.predict(x_test)"
   ]
  },
  {
   "cell_type": "code",
   "execution_count": null,
   "id": "352f82ca",
   "metadata": {},
   "outputs": [],
   "source": [
    "plt.scatter(y_test, y_pred1)\n",
    "\n",
    "print(\"R2 Score: \", r2_score(y_test, y_pred1))\n",
    "print(\"MSE Score: \", mean_squared_error(y_test, y_pred1))\n",
    "print(\"RMSE : \", sqrt(mean_squared_error(y_test, y_pred1)))"
   ]
  },
  {
   "cell_type": "markdown",
   "id": "08b090ec",
   "metadata": {},
   "source": [
    "### Random Forest"
   ]
  },
  {
   "cell_type": "code",
   "execution_count": null,
   "id": "6e6a8054",
   "metadata": {},
   "outputs": [],
   "source": [
    "rf1 = RandomForestRegressor(n_estimators = 100)\n",
    "rf1.fit(x_train, y_train)"
   ]
  },
  {
   "cell_type": "code",
   "execution_count": null,
   "id": "5d308f0b",
   "metadata": {},
   "outputs": [],
   "source": [
    "y_pred2 = rf1.predict(x_test)"
   ]
  },
  {
   "cell_type": "code",
   "execution_count": null,
   "id": "8302e833",
   "metadata": {},
   "outputs": [],
   "source": [
    "plt.scatter(y_test, y_pred2)\n",
    "\n",
    "print(\"R2 Score: \", r2_score(y_test, y_pred2))\n",
    "print(\"MSE Score: \", mean_squared_error(y_test, y_pred2))\n",
    "print(\"RMSE : \", sqrt(mean_squared_error(y_test, y_pred2)))"
   ]
  },
  {
   "cell_type": "markdown",
   "id": "590800da",
   "metadata": {},
   "source": [
    "### KNN"
   ]
  },
  {
   "cell_type": "code",
   "execution_count": null,
   "id": "454f374b",
   "metadata": {},
   "outputs": [],
   "source": [
    "knn = KNeighborsRegressor()\n",
    "knn.fit(x_train, y_train)"
   ]
  },
  {
   "cell_type": "code",
   "execution_count": null,
   "id": "582532ea",
   "metadata": {},
   "outputs": [],
   "source": [
    "y_pred3 = knn.predict(x_test)"
   ]
  },
  {
   "cell_type": "code",
   "execution_count": null,
   "id": "d9e5945a",
   "metadata": {},
   "outputs": [],
   "source": [
    "plt.scatter(y_test, y_pred3)\n",
    "\n",
    "print(\"R2 Score: \", r2_score(y_test, y_pred3))\n",
    "print(\"MSE Score: \", mean_squared_error(y_test, y_pred3))\n",
    "print(\"RMSE : \", sqrt(mean_squared_error(y_test, y_pred3)))"
   ]
  },
  {
   "cell_type": "markdown",
   "id": "5503a875",
   "metadata": {},
   "source": [
    "### XG Boost"
   ]
  },
  {
   "cell_type": "code",
   "execution_count": null,
   "id": "1162aed0",
   "metadata": {},
   "outputs": [],
   "source": [
    "xg = XGBRegressor()\n",
    "xg.fit(x_train, y_train)"
   ]
  },
  {
   "cell_type": "code",
   "execution_count": null,
   "id": "924dd5c4",
   "metadata": {},
   "outputs": [],
   "source": [
    "y_pred4 = xg.predict(x_test)"
   ]
  },
  {
   "cell_type": "code",
   "execution_count": null,
   "id": "683c1a13",
   "metadata": {},
   "outputs": [],
   "source": [
    "plt.scatter(y_test, y_pred4)\n",
    "\n",
    "print(\"R2 Score: \", r2_score(y_test, y_pred4))\n",
    "print(\"MSE Score: \", mean_squared_error(y_test, y_pred4))\n",
    "print(\"RMSE : \", sqrt(mean_squared_error(y_test, y_pred4)))"
   ]
  },
  {
   "cell_type": "markdown",
   "id": "3cb96ed4",
   "metadata": {},
   "source": [
    "### Getting Average of Best Models"
   ]
  },
  {
   "cell_type": "code",
   "execution_count": null,
   "id": "981c7aa7",
   "metadata": {},
   "outputs": [],
   "source": [
    "y_pred_final = (y_pred1 + y_pred2  + y_pred4)/3.0"
   ]
  },
  {
   "cell_type": "code",
   "execution_count": null,
   "id": "b279a58b",
   "metadata": {},
   "outputs": [],
   "source": [
    "plt.scatter(y_test, y_pred_final)\n",
    "\n",
    "print(\"R2 Score: \", r2_score(y_test, y_pred_final))\n",
    "print(\"MSE Score: \", mean_squared_error(y_test, y_pred_final))\n",
    "print(\"RMSE : \", sqrt(mean_squared_error(y_test, y_pred_final)))"
   ]
  },
  {
   "cell_type": "markdown",
   "id": "797fa403",
   "metadata": {},
   "source": [
    "# F. Motivation and Reasons For Choosing the Algorithm\n",
    "\n",
    "I have tried Linear Regression, Decision Tree, Random Forest, KNN and XGBoost algorithms. We can see above Linear Regression And KNN model is not fitting for this dataset but Random Forest, Decision Tree and XGBoost is working good for this dataset.\n",
    "\n",
    "XGboost is an efficient and powerful algorithm that is well-suited for Walmart’s needs. It is a powerful algorithm that can handle large datasets and is capable of handling complex non-linear relationships. It is also highly scalable and can be used to make predictions on large datasets. It is also known for its high accuracy and is often used in competitions such as Kaggle. Additionally, XGboost is easy to use and can be implemented quickly."
   ]
  },
  {
   "cell_type": "markdown",
   "id": "9b72c947",
   "metadata": {},
   "source": [
    "# G. Assumptions\n",
    "\n",
    "It is not possible to accurately forecast the sales for each store for the next 12 weeks using machine learning without additional information. Machine learning algorithms require data to be able to make predictions. This data could include historical sales data, customer demographics, store location, and other factors. Without this data, it is not possible to accurately forecast sales for each store for the next 12 weeks."
   ]
  },
  {
   "cell_type": "markdown",
   "id": "0ab66f13",
   "metadata": {
    "jp-MarkdownHeadingCollapsed": true
   },
   "source": [
    "# H. Model Evaluation and Techniques\n",
    "\n",
    "The most accurate way to forecast sales for each store using machine learning is to use a time series forecasting model. This type of model takes into account the historical sales data for each store and uses it to predict future sales. The model can be trained using a variety of techniques, such as neural networks. Once the model is trained, it can be used to make predictions about future sales for each store. Additionally, the model can be evaluated using a variety of metrics."
   ]
  },
  {
   "cell_type": "markdown",
   "id": "c97d764f",
   "metadata": {},
   "source": [
    "# I. Inferences from the Same\n",
    "\n",
    "Walmart can use machine learning to forecast sales for each store. By leveraging historical sales data, Walmart can use predictive analytics to identify patterns and trends in sales and use them to make accurate predictions about future sales. Walmart can also use machine learning to identify factors that influence sales, such as weather, seasonality, and customer demographics. By incorporating these factors into their forecasting models, Walmart can make more accurate predictions about future sales."
   ]
  },
  {
   "cell_type": "markdown",
   "id": "0acd1d29",
   "metadata": {},
   "source": [
    "# J.Future Possibilities of the Project\n",
    "\n",
    "The sales for each store can be forecasted using machine learning algorithms such as regression, decision trees, and neural networks. These algorithms can be used to predict the sales for each store based on historical data, such as sales figures from previous years, customer demographics, and other factors. The predictions can then be used to inform decisions about inventory, pricing, and marketing strategies. Additionally, the predictions can be used to identify trends and opportunities for growth."
   ]
  },
  {
   "cell_type": "code",
   "execution_count": null,
   "id": "553d3dd2-28a2-4abe-9d38-a952a69d4999",
   "metadata": {},
   "outputs": [],
   "source": [
    "import numpy as np\n",
    "import pandas as pd\n",
    "import matplotlib.pyplot as plt\n",
    "import seaborn as sns\n",
    "data= pd.read_csv(r\"F:\\Data Analytics - IITM\\capston project\\Walmart.csv\")\n",
    "data['Date']=pd.to_datetime(data['Date'],dayfirst=True)"
   ]
  },
  {
   "cell_type": "code",
   "execution_count": null,
   "id": "873ce381-32a2-43d9-8984-61ccc3def395",
   "metadata": {},
   "outputs": [],
   "source": [
    "data"
   ]
  },
  {
   "cell_type": "code",
   "execution_count": null,
   "id": "7be332b7",
   "metadata": {},
   "outputs": [],
   "source": [
    "import matplotlib.pyplot as plt\n",
    "import seaborn as sns\n",
    "\n",
    "# Sales Trends for Individual Stores\n",
    "plt.figure(figsize=(14, 8))\n",
    "for store in data['Store'].unique():\n",
    "    store_data = data[data['Store'] == store]\n",
    "    store_data.groupby('Date')['Weekly_Sales'].sum().plot(label=f'Store {store}')\n",
    "plt.title('Sales Trends for Individual Stores')\n",
    "plt.xlabel('Date')\n",
    "plt.ylabel('Total Weekly Sales')\n",
    "plt.legend()\n",
    "plt.show()\n",
    "\n",
    "# Monthly Sales Trends\n",
    "data['Month'] = data['Date'].dt.month\n",
    "data['Year'] = data['Date'].dt.year\n",
    "\n",
    "monthly_sales = data.groupby(['Year', 'Month'])['Weekly_Sales'].sum().unstack()\n",
    "monthly_sales.plot(figsize=(14, 8))\n",
    "plt.title('Monthly Sales Trends')\n",
    "plt.xlabel('Year')\n",
    "plt.ylabel('Total Monthly Sales')\n",
    "plt.show()\n"
   ]
  },
  {
   "cell_type": "code",
   "execution_count": null,
   "id": "13704e6b",
   "metadata": {},
   "outputs": [],
   "source": [
    "# Correlation Matrix\n",
    "correlation_matrix = data.corr()\n",
    "plt.figure(figsize=(10, 8))\n",
    "sns.heatmap(correlation_matrix, annot=True, cmap='coolwarm', vmin=-1, vmax=1)\n",
    "plt.title('Correlation Matrix')\n",
    "plt.show()\n"
   ]
  },
  {
   "cell_type": "code",
   "execution_count": null,
   "id": "519c80cf-1ca7-47f2-a292-035e2a4f5ca8",
   "metadata": {},
   "outputs": [],
   "source": [
    "from statsmodels.tsa.statespace.sarimax import SARIMAX\n",
    "from sklearn.metrics import mean_squared_error\n",
    "\n",
    "# Forecasting for each store\n",
    "store_forecasts = {}\n",
    "for store in data['Store'].unique():\n",
    "    store_data = data[data['Store'] == store].set_index('Date')\n",
    "    store_sales = store_data['Weekly_Sales']\n",
    "    \n",
    "    # Fit SARIMA model\n",
    "    model = SARIMAX(store_sales, order=(1, 1, 1), seasonal_order=(1, 1, 1, 52))\n",
    "    model_fit = model.fit(disp=False)\n",
    "    \n",
    "    # Forecast for the next 12 weeks\n",
    "    forecast = model_fit.get_forecast(steps=12)\n",
    "    store_forecasts[store] = forecast.predicted_mean\n",
    "\n",
    "# Example forecast for store 1\n",
    "print(store_forecasts[1])\n"
   ]
  },
  {
   "cell_type": "code",
   "execution_count": null,
   "id": "6a1ffd92-8c5d-4f6c-a243-c638e34bd091",
   "metadata": {},
   "outputs": [],
   "source": [
    "store_sales"
   ]
  },
  {
   "cell_type": "code",
   "execution_count": null,
   "id": "4402c374-235e-475e-966a-1d71a739be62",
   "metadata": {},
   "outputs": [],
   "source": [
    "store_data = data[data['Store'] == 1].set_index('Date')\n",
    "store_sales = store_data['Weekly_Sales']\n",
    "store_sales.tail()"
   ]
  },
  {
   "cell_type": "code",
   "execution_count": null,
   "id": "c0dfd2a8-2103-4022-b960-98078078cc98",
   "metadata": {},
   "outputs": [],
   "source": [
    "store_sales.plot()\n",
    "store_forecasts[1].plot()"
   ]
  },
  {
   "cell_type": "code",
   "execution_count": null,
   "id": "f96a4c11-dcaf-4dc3-9f04-b3f688868d43",
   "metadata": {},
   "outputs": [],
   "source": [
    "from fbprophet import Prophet\n",
    "\n",
    "# Prepare data for Prophet\n",
    "prophet_data = data.rename(columns={'Date': 'ds', 'Weekly_Sales': 'y'})\n",
    "\n",
    "# Forecasting for each store\n",
    "store_forecasts = {}\n",
    "for store in data['Store'].unique():\n",
    "    store_data = prophet_data[prophet_data['Store'] == store][['ds', 'y']]\n",
    "    \n",
    "    # Fit Prophet model\n",
    "    model = Prophet()\n",
    "    model.fit(store_data)\n",
    "    \n",
    "    # Make future dataframe for 12 weeks\n",
    "    future = model.make_future_dataframe(periods=12, freq='W')\n",
    "    \n",
    "    # Forecast\n",
    "    forecast = model.predict(future)\n",
    "    store_forecasts[store] = forecast[['ds', 'yhat', 'yhat_lower', 'yhat_upper']]\n",
    "\n",
    "# Example forecast for store 1\n",
    "print(store_forecasts[1].tail(12))\n"
   ]
  },
  {
   "cell_type": "code",
   "execution_count": null,
   "id": "4ca06b93-0e00-470b-ab2b-bf4c4e2acaee",
   "metadata": {},
   "outputs": [],
   "source": []
  },
  {
   "cell_type": "code",
   "execution_count": null,
   "id": "248aa382-9bbb-4c11-9810-62a6b7231f5e",
   "metadata": {},
   "outputs": [],
   "source": []
  },
  {
   "cell_type": "code",
   "execution_count": null,
   "id": "47ec7323-9a2e-4a1f-ad9e-1a2d7a50e787",
   "metadata": {},
   "outputs": [],
   "source": []
  },
  {
   "cell_type": "code",
   "execution_count": null,
   "id": "fee33723-3a1b-4b35-b161-b102404d61e8",
   "metadata": {},
   "outputs": [],
   "source": []
  }
 ],
 "metadata": {
  "kernelspec": {
   "display_name": "Python 3 (ipykernel)",
   "language": "python",
   "name": "python3"
  },
  "language_info": {
   "codemirror_mode": {
    "name": "ipython",
    "version": 3
   },
   "file_extension": ".py",
   "mimetype": "text/x-python",
   "name": "python",
   "nbconvert_exporter": "python",
   "pygments_lexer": "ipython3",
   "version": "3.11.7"
  }
 },
 "nbformat": 4,
 "nbformat_minor": 5
}
